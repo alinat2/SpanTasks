{
  "cells": [
    {
      "cell_type": "markdown",
      "metadata": {
        "id": "view-in-github",
        "colab_type": "text"
      },
      "source": [
        "<a href=\"https://colab.research.google.com/github/alinat2/SpanTasks/blob/main/Sspan_analysis.ipynb\" target=\"_parent\"><img src=\"https://colab.research.google.com/assets/colab-badge.svg\" alt=\"Open In Colab\"/></a>"
      ]
    },
    {
      "cell_type": "markdown",
      "metadata": {
        "id": "LQb11GupUHco"
      },
      "source": [
        "# Symmetry Span Data Processing\n",
        "\n",
        "**Author**: Alina Tu\n",
        "\n",
        "**Contact**: alinat2@uci.edu\n",
        "\n",
        "**Last Updated**: 8/15/2022\n",
        "\n",
        "**About**: This preprocessing script is for the Symmetry Span (Sspan) data files of the Individual Differences and Robotics (IndivRobotics) project. Symmetry refers to the grid used when determining whether the design is symmetrical (SymmetryDisplays: symm number). Matrix refers to the red squares, recalled in sequential order (MatrixID: matrix number)."
      ]
    },
    {
      "cell_type": "code",
      "execution_count": null,
      "metadata": {
        "colab": {
          "base_uri": "https://localhost:8080/"
        },
        "id": "0dt4Uow_s4HG",
        "outputId": "df6fee8d-7c13-49f6-ee36-bf123a4e2cf3"
      },
      "outputs": [
        {
          "name": "stdout",
          "output_type": "stream",
          "text": [
            "Looking in indexes: https://pypi.org/simple, https://us-python.pkg.dev/colab-wheels/public/simple/\n",
            "Requirement already satisfied: rpy2==3.5.1 in /usr/local/lib/python3.9/dist-packages (3.5.1)\n",
            "Requirement already satisfied: jinja2 in /usr/local/lib/python3.9/dist-packages (from rpy2==3.5.1) (3.1.2)\n",
            "Requirement already satisfied: pytz in /usr/local/lib/python3.9/dist-packages (from rpy2==3.5.1) (2022.7.1)\n",
            "Requirement already satisfied: cffi>=1.10.0 in /usr/local/lib/python3.9/dist-packages (from rpy2==3.5.1) (1.15.1)\n",
            "Requirement already satisfied: tzlocal in /usr/local/lib/python3.9/dist-packages (from rpy2==3.5.1) (4.2)\n",
            "Requirement already satisfied: pycparser in /usr/local/lib/python3.9/dist-packages (from cffi>=1.10.0->rpy2==3.5.1) (2.21)\n",
            "Requirement already satisfied: MarkupSafe>=2.0 in /usr/local/lib/python3.9/dist-packages (from jinja2->rpy2==3.5.1) (2.1.2)\n",
            "Requirement already satisfied: pytz-deprecation-shim in /usr/local/lib/python3.9/dist-packages (from tzlocal->rpy2==3.5.1) (0.1.0.post0)\n",
            "Requirement already satisfied: tzdata in /usr/local/lib/python3.9/dist-packages (from pytz-deprecation-shim->tzlocal->rpy2==3.5.1) (2022.7)\n"
          ]
        }
      ],
      "source": [
        "!pip install rpy2==3.5.1"
      ]
    },
    {
      "cell_type": "code",
      "execution_count": null,
      "metadata": {
        "id": "pobf1Yp8TNl5"
      },
      "outputs": [],
      "source": [
        "%load_ext rpy2.ipython"
      ]
    },
    {
      "cell_type": "code",
      "execution_count": null,
      "metadata": {
        "colab": {
          "base_uri": "https://localhost:8080/"
        },
        "id": "aEyAXj7RTW1b",
        "outputId": "77fdba9f-fb02-46af-efa3-bbc532e9b85d"
      },
      "outputs": [
        {
          "name": "stderr",
          "output_type": "stream",
          "text": [
            "WARNING:rpy2.rinterface_lib.callbacks:R[write to console]: Installing package into ‘/usr/local/lib/R/site-library’\n",
            "(as ‘lib’ is unspecified)\n",
            "\n",
            "WARNING:rpy2.rinterface_lib.callbacks:R[write to console]: trying URL 'https://cran.rstudio.com/src/contrib/rprime_0.1.2.tar.gz'\n",
            "\n",
            "WARNING:rpy2.rinterface_lib.callbacks:R[write to console]: Content type 'application/x-gzip'\n",
            "WARNING:rpy2.rinterface_lib.callbacks:R[write to console]:  length 62580 bytes (61 KB)\n",
            "\n",
            "WARNING:rpy2.rinterface_lib.callbacks:R[write to console]: =\n",
            "WARNING:rpy2.rinterface_lib.callbacks:R[write to console]: =\n",
            "WARNING:rpy2.rinterface_lib.callbacks:R[write to console]: =\n",
            "WARNING:rpy2.rinterface_lib.callbacks:R[write to console]: =\n",
            "WARNING:rpy2.rinterface_lib.callbacks:R[write to console]: =\n",
            "WARNING:rpy2.rinterface_lib.callbacks:R[write to console]: =\n",
            "WARNING:rpy2.rinterface_lib.callbacks:R[write to console]: =\n",
            "WARNING:rpy2.rinterface_lib.callbacks:R[write to console]: =\n",
            "WARNING:rpy2.rinterface_lib.callbacks:R[write to console]: =\n",
            "WARNING:rpy2.rinterface_lib.callbacks:R[write to console]: =\n",
            "WARNING:rpy2.rinterface_lib.callbacks:R[write to console]: =\n",
            "WARNING:rpy2.rinterface_lib.callbacks:R[write to console]: =\n",
            "WARNING:rpy2.rinterface_lib.callbacks:R[write to console]: =\n",
            "WARNING:rpy2.rinterface_lib.callbacks:R[write to console]: =\n",
            "WARNING:rpy2.rinterface_lib.callbacks:R[write to console]: =\n",
            "WARNING:rpy2.rinterface_lib.callbacks:R[write to console]: =\n",
            "WARNING:rpy2.rinterface_lib.callbacks:R[write to console]: =\n",
            "WARNING:rpy2.rinterface_lib.callbacks:R[write to console]: =\n",
            "WARNING:rpy2.rinterface_lib.callbacks:R[write to console]: =\n",
            "WARNING:rpy2.rinterface_lib.callbacks:R[write to console]: =\n",
            "WARNING:rpy2.rinterface_lib.callbacks:R[write to console]: =\n",
            "WARNING:rpy2.rinterface_lib.callbacks:R[write to console]: =\n",
            "WARNING:rpy2.rinterface_lib.callbacks:R[write to console]: =\n",
            "WARNING:rpy2.rinterface_lib.callbacks:R[write to console]: =\n",
            "WARNING:rpy2.rinterface_lib.callbacks:R[write to console]: =\n",
            "WARNING:rpy2.rinterface_lib.callbacks:R[write to console]: =\n",
            "WARNING:rpy2.rinterface_lib.callbacks:R[write to console]: =\n",
            "WARNING:rpy2.rinterface_lib.callbacks:R[write to console]: =\n",
            "WARNING:rpy2.rinterface_lib.callbacks:R[write to console]: =\n",
            "WARNING:rpy2.rinterface_lib.callbacks:R[write to console]: =\n",
            "WARNING:rpy2.rinterface_lib.callbacks:R[write to console]: =\n",
            "WARNING:rpy2.rinterface_lib.callbacks:R[write to console]: =\n",
            "WARNING:rpy2.rinterface_lib.callbacks:R[write to console]: =\n",
            "WARNING:rpy2.rinterface_lib.callbacks:R[write to console]: =\n",
            "WARNING:rpy2.rinterface_lib.callbacks:R[write to console]: =\n",
            "WARNING:rpy2.rinterface_lib.callbacks:R[write to console]: =\n",
            "WARNING:rpy2.rinterface_lib.callbacks:R[write to console]: =\n",
            "WARNING:rpy2.rinterface_lib.callbacks:R[write to console]: =\n",
            "WARNING:rpy2.rinterface_lib.callbacks:R[write to console]: =\n",
            "WARNING:rpy2.rinterface_lib.callbacks:R[write to console]: =\n",
            "WARNING:rpy2.rinterface_lib.callbacks:R[write to console]: =\n",
            "WARNING:rpy2.rinterface_lib.callbacks:R[write to console]: =\n",
            "WARNING:rpy2.rinterface_lib.callbacks:R[write to console]: =\n",
            "WARNING:rpy2.rinterface_lib.callbacks:R[write to console]: =\n",
            "WARNING:rpy2.rinterface_lib.callbacks:R[write to console]: =\n",
            "WARNING:rpy2.rinterface_lib.callbacks:R[write to console]: =\n",
            "WARNING:rpy2.rinterface_lib.callbacks:R[write to console]: =\n",
            "WARNING:rpy2.rinterface_lib.callbacks:R[write to console]: =\n",
            "WARNING:rpy2.rinterface_lib.callbacks:R[write to console]: =\n",
            "WARNING:rpy2.rinterface_lib.callbacks:R[write to console]: =\n",
            "WARNING:rpy2.rinterface_lib.callbacks:R[write to console]: \n",
            "\n",
            "WARNING:rpy2.rinterface_lib.callbacks:R[write to console]: downloaded 61 KB\n",
            "\n",
            "\n",
            "WARNING:rpy2.rinterface_lib.callbacks:R[write to console]: \n",
            "\n",
            "WARNING:rpy2.rinterface_lib.callbacks:R[write to console]: \n",
            "WARNING:rpy2.rinterface_lib.callbacks:R[write to console]: The downloaded source packages are in\n",
            "\t‘/tmp/Rtmp853XTb/downloaded_packages’\n",
            "WARNING:rpy2.rinterface_lib.callbacks:R[write to console]: \n",
            "WARNING:rpy2.rinterface_lib.callbacks:R[write to console]: \n",
            "\n",
            "WARNING:rpy2.rinterface_lib.callbacks:R[write to console]: \n",
            "Attaching package: ‘dplyr’\n",
            "\n",
            "\n",
            "WARNING:rpy2.rinterface_lib.callbacks:R[write to console]: The following objects are masked from ‘package:stats’:\n",
            "\n",
            "    filter, lag\n",
            "\n",
            "\n",
            "WARNING:rpy2.rinterface_lib.callbacks:R[write to console]: The following objects are masked from ‘package:base’:\n",
            "\n",
            "    intersect, setdiff, setequal, union\n",
            "\n",
            "\n",
            "WARNING:rpy2.rinterface_lib.callbacks:R[write to console]: ── Attaching packages ─────────────────────────────────────── tidyverse 1.3.1 ──\n",
            "\n",
            "WARNING:rpy2.rinterface_lib.callbacks:R[write to console]: ✔ ggplot2 3.4.1     ✔ purrr   1.0.1\n",
            "✔ tibble  3.1.8     ✔ stringr 1.4.1\n",
            "✔ tidyr   1.3.0     ✔ forcats 1.0.0\n",
            "✔ readr   2.1.4     \n",
            "\n",
            "WARNING:rpy2.rinterface_lib.callbacks:R[write to console]: ── Conflicts ────────────────────────────────────────── tidyverse_conflicts() ──\n",
            "✖ dplyr::filter() masks stats::filter()\n",
            "✖ dplyr::lag()    masks stats::lag()\n",
            "\n"
          ]
        }
      ],
      "source": [
        "# Getting started [Packages and working directory]\n",
        "%%R\n",
        "install.packages(\"rprime\")\n",
        "library(rprime)\n",
        "library(dplyr)\n",
        "library(tidyverse)"
      ]
    },
    {
      "cell_type": "code",
      "execution_count": null,
      "metadata": {
        "colab": {
          "base_uri": "https://localhost:8080/"
        },
        "id": "N85sA_fzh0M6",
        "outputId": "a2cbd658-998d-4c53-f613-1dbac7e42472"
      },
      "outputs": [
        {
          "name": "stdout",
          "output_type": "stream",
          "text": [
            "Drive already mounted at /content/drive; to attempt to forcibly remount, call drive.mount(\"/content/drive\", force_remount=True).\n"
          ]
        }
      ],
      "source": [
        "from google.colab import drive\n",
        "drive.mount('/content/drive')"
      ]
    },
    {
      "cell_type": "code",
      "execution_count": null,
      "metadata": {
        "id": "pSVSZtPLVdNU"
      },
      "outputs": [],
      "source": [
        "# Input the working directory containing the Sspan Eprime data files\n",
        "# Each file is named \"SspanShort-\" + \"subject ID\" + \"session number\" (i.e., SspanShort-111-1.txt)\n",
        "%%R\n",
        "workdir <- \"/content/drive/Shareddrives/IndividualDifferencesUCIUCSB/RAFolder/Raw Data/Session 4.2/Symmetry Span\"\n",
        "setwd(workdir)\n"
      ]
    },
    {
      "cell_type": "code",
      "execution_count": null,
      "metadata": {
        "id": "3OnvTNr_V31a"
      },
      "outputs": [],
      "source": [
        "# Create a function to organize Eprime data\n",
        "%%R\n",
        "read <- function(file_name) {\n",
        "  # Read in a text file generated by Eprime\n",
        "  file_lines <- read_eprime(file_name)\n",
        "  # Convert lines from an Eprime file into EprimeFrame objects\n",
        "  file_frames <- FrameList(file_lines)\n",
        "  # Make it a data frame\n",
        "  file_df <- to_data_frame(file_frames)\n",
        "  # Clean up data\n",
        "  data <- as_tibble(file_df)\n",
        "  # data[data == \"?\"] <- \"NA\"\n",
        "}\n",
        "\n",
        "#test_data <- read(\"SspanShort-805-4.txt\")"
      ]
    },
    {
      "cell_type": "code",
      "execution_count": null,
      "metadata": {
        "id": "VkqZu1CQXaY0"
      },
      "outputs": [],
      "source": [
        "# Store list of names for all Eprime data files\n",
        "%%R\n",
        "files <- dir(pattern = \"*.txt\")\n",
        "\n",
        "trial_full <- tibble()\n",
        "recall_full <- tibble()\n",
        "participant_full <- tibble()\n",
        "\n",
        "for (indiv_eprime_datafile in files){\n",
        "  readable_data <- read(indiv_eprime_datafile)\n",
        "  sub_id <- as.numeric(readable_data$Subject)[1]\n",
        "  \n",
        "  # Symmetry-matrix trial sequences\n",
        "  trial_data <- readable_data[readable_data$Procedure == \"trialdo\" | readable_data$Procedure == \"RedrawProc\", ]\n",
        "  trial_proc <- as_tibble(trial_data) %>% \n",
        "    select(Procedure, ShowSymm.RT, CheckResponse.RT, CollectClick.RT)\n",
        "    # ShowSymm.RT: RT taken to click past the symmetry grid\n",
        "    # CheckResponse.RT: RT taken to select a true/false response\n",
        "    # CollectClick.RT: RT taken to select a red square during recall\n",
        "  trial_proc <- cbind(rep(sub_id, nrow(trial_proc)), trial_proc)\n",
        "  trial_full <- rbind(trial_full, trial_proc)\n",
        "  \n",
        "  # Overall test \"recall\" trials\n",
        "  recall_data <- readable_data[readable_data$Procedure == \"recall\", ]\n",
        "  recall_proc <- as_tibble(recall_data)[3:8,] %>% # there are 6 test trials\n",
        "    select(Cycle, Sample, SpanScore, SpanTotal)\n",
        "  recall_proc <- cbind(rep(sub_id, nrow(recall_proc)), recall_proc)\n",
        "  recall_full <- rbind(recall_full, recall_proc)\n",
        "  \n",
        "  # Overall scores\n",
        "  summary_data <- readable_data[readable_data$Procedure == \"SessionProc\", ]\n",
        "  summary_proc <- as_tibble(summary_data)[1,] %>%\n",
        "    select(SymmErrorTotal, SpeedErrorTotal, AccErrorTotal, SspanScore, SspanTotal)\n",
        "    # Sspan Score: sum of SpanScore in each recall_proc procedure (# of correctly recalled red squares)\n",
        "    # note: set size = list length\n",
        "    # Sspan Total: sum of SpanTotal in each recall_proc procedure (total possible red squares to recall)\n",
        "  avg_ShowSymm.RT <- mean(as.numeric(trial_proc$ShowSymm.RT), na.rm = TRUE)\n",
        "  avg_CheckResponse.RT <- mean(as.numeric(trial_proc$CheckResponse.RT), na.rm = TRUE)\n",
        "  avg_CollectClick.RT <- mean(as.numeric(trial_proc$CollectClick.RT), na.rm = TRUE)\n",
        "  summary_proc <- cbind(sub_id, avg_ShowSymm.RT, avg_CheckResponse.RT, avg_CollectClick.RT, summary_proc)\n",
        "  participant_full <- rbind(participant_full, summary_proc)\n",
        "\n",
        "  # 1. (later) pull RTs per trial thing\n",
        "}"
      ]
    },
    {
      "cell_type": "code",
      "execution_count": null,
      "metadata": {
        "id": "8oS4YHq6XpQ6"
      },
      "outputs": [],
      "source": [
        "%%R\n",
        "# print(participant_full)\n",
        "colnames(trial_full) <- c(\"sub_id\", \"ShowSymm.RT\", \"CheckResponse.RT\", \"CollectClick.RT\")\n",
        "colnames(recall_full) <- c(\"sub_id\", \"Cycle\", \"Sample\", \"SpanScore\", \"SpanTotal\")\n",
        "\n",
        "print(\"Writing CSVs...\")\n",
        "path_out <- \"/content/drive/Shareddrives/IndividualDifferencesUCIUCSB/RAFolder/DataProcessingScripts/Session 4.2/Symmetry Span\"\n",
        "write.csv(trial_full, file.path(path_out, \"Sspan_trial_full.csv\"), row.names=FALSE)\n",
        "write.csv(recall_full, file.path(path_out, \"Sspan_recall_full.csv\"), row.names=FALSE)\n",
        "write.csv(participant_full, file.path(path_out, \"Sspan_participant_full.csv\"), row.names=FALSE)\n",
        "print(\"CSVs have been created.\")"
      ]
    }
  ],
  "metadata": {
    "colab": {
      "provenance": [],
      "include_colab_link": true
    },
    "kernelspec": {
      "display_name": "Python 3",
      "name": "python3"
    },
    "language_info": {
      "name": "python"
    }
  },
  "nbformat": 4,
  "nbformat_minor": 0
}